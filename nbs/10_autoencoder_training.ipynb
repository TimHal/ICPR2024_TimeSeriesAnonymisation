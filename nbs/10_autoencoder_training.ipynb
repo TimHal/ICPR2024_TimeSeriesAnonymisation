{
 "cells": [
  {
   "cell_type": "code",
   "execution_count": 1,
   "id": "1566875b-069d-4fed-b9b2-fe2b93f8170b",
   "metadata": {},
   "outputs": [],
   "source": [
    "%load_ext autoreload\n",
    "%autoreload 2"
   ]
  },
  {
   "cell_type": "markdown",
   "id": "dc76f0e6-3282-4ca4-bbf3-61505568dfec",
   "metadata": {},
   "source": [
    "# Autoencoder Training\n",
    "\n",
    "> Setting up autoencoders for the GAN architecture"
   ]
  },
  {
   "cell_type": "code",
   "execution_count": 2,
   "id": "2123ed0d-66d0-4125-86b2-effb1afe864b",
   "metadata": {},
   "outputs": [],
   "source": [
    "#| default_exp autoencoder"
   ]
  },
  {
   "cell_type": "code",
   "execution_count": 3,
   "id": "d4bd9a28-57fc-4640-a242-9a6c3870ab67",
   "metadata": {},
   "outputs": [],
   "source": [
    "#| hide\n",
    "from nbdev.showdoc import *"
   ]
  },
  {
   "cell_type": "code",
   "execution_count": 4,
   "id": "c54d2cc7-94a4-48b8-afe5-4787824a24bd",
   "metadata": {},
   "outputs": [],
   "source": [
    "#| hide\n",
    "import numpy as np\n",
    "from sklearn.metrics import confusion_matrix, classification_report, precision_recall_fscore_support, f1_score\n",
    "\n",
    "import sys\n",
    "import os\n",
    "import pickle"
   ]
  },
  {
   "cell_type": "code",
   "execution_count": 5,
   "id": "f71b5de0-c368-484c-ab37-54fcedcc3b91",
   "metadata": {},
   "outputs": [],
   "source": [
    "from ICPR2024_TimeSeriesAnonymisation.models.Autoencoder import ae_mbientlab, ae_mocap"
   ]
  },
  {
   "cell_type": "code",
   "execution_count": 6,
   "id": "5c594b25-7f80-4f7f-9e2c-c51b296ef312",
   "metadata": {},
   "outputs": [],
   "source": [
    "#| export\n",
    "def train_mbientlab(\n",
    "        max_epochs: int = 100, # Maximum number of epochs, if termination criterion\n",
    "        export_path: str = None, # Path where the trained model is to be stored. \n",
    "    ) -> (float, float): # Final validation acc and precision \n",
    "    \n",
    "    assert 1 == 1\n",
    "    \n",
    "    return 0.0, 0.0"
   ]
  },
  {
   "cell_type": "code",
   "execution_count": 7,
   "id": "0d4acba9-32b4-4d43-b81c-0ced55fbcf66",
   "metadata": {
    "tags": []
   },
   "outputs": [],
   "source": [
    "#| hide\n",
    "import nbdev; nbdev.nbdev_export()"
   ]
  }
 ],
 "metadata": {
  "kernelspec": {
   "display_name": "Python 3 (ipykernel)",
   "language": "python",
   "name": "python3"
  },
  "language_info": {
   "codemirror_mode": {
    "name": "ipython",
    "version": 3
   },
   "file_extension": ".py",
   "mimetype": "text/x-python",
   "name": "python",
   "nbconvert_exporter": "python",
   "pygments_lexer": "ipython3",
   "version": "3.7.3"
  }
 },
 "nbformat": 4,
 "nbformat_minor": 5
}
