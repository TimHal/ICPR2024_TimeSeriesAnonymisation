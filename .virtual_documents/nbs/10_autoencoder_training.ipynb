get_ipython().run_line_magic("load_ext", " autoreload")
get_ipython().run_line_magic("autoreload", " 2")


#| default_exp autoencoder


#| hide
from nbdev.showdoc import *


#| hide
import numpy as np
from sklearn.metrics import confusion_matrix, classification_report, precision_recall_fscore_support, f1_score

import sys
import os
import pickle


from ICPR2024_TimeSeriesAnonymisation.models.Autoencoder import ae_mbientlab, ae_mocap


#| export
def train_mbientlab(
        max_epochs: int = 100, # Maximum number of epochs, if termination criterion
        export_path: str = None, # Path where the trained model is to be stored. 
    ) -> (float, float): # Final validation acc and precision 
    
    assert 1 == 1
    
    return 0.0, 0.0


#| hide
import nbdev; nbdev.nbdev_export()
